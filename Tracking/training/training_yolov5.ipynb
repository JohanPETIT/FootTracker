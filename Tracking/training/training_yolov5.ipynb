{
 "cells": [
  {
   "cell_type": "code",
   "execution_count": 5,
   "metadata": {},
   "outputs": [
    {
     "name": "stdout",
     "output_type": "stream",
     "text": [
      "Requirement already satisfied: ultralytics in c:\\users\\johan\\appdata\\local\\programs\\python\\python39\\lib\\site-packages (8.2.8)\n",
      "Requirement already satisfied: py-cpuinfo in c:\\users\\johan\\appdata\\local\\programs\\python\\python39\\lib\\site-packages (from ultralytics) (9.0.0)\n",
      "Requirement already satisfied: torchvision>=0.9.0 in c:\\users\\johan\\appdata\\local\\programs\\python\\python39\\lib\\site-packages (from ultralytics) (0.18.0)\n",
      "Requirement already satisfied: thop>=0.1.1 in c:\\users\\johan\\appdata\\local\\programs\\python\\python39\\lib\\site-packages (from ultralytics) (0.1.1.post2209072238)\n",
      "Requirement already satisfied: psutil in c:\\users\\johan\\appdata\\local\\programs\\python\\python39\\lib\\site-packages (from ultralytics) (5.9.8)\n",
      "Requirement already satisfied: scipy>=1.4.1 in c:\\users\\johan\\appdata\\local\\programs\\python\\python39\\lib\\site-packages (from ultralytics) (1.13.0)\n",
      "Requirement already satisfied: tqdm>=4.64.0 in c:\\users\\johan\\appdata\\local\\programs\\python\\python39\\lib\\site-packages (from ultralytics) (4.66.4)\n",
      "Requirement already satisfied: pandas>=1.1.4 in c:\\users\\johan\\appdata\\local\\programs\\python\\python39\\lib\\site-packages (from ultralytics) (2.2.2)\n",
      "Requirement already satisfied: seaborn>=0.11.0 in c:\\users\\johan\\appdata\\local\\programs\\python\\python39\\lib\\site-packages (from ultralytics) (0.13.2)\n",
      "Requirement already satisfied: pillow>=7.1.2 in c:\\users\\johan\\appdata\\local\\programs\\python\\python39\\lib\\site-packages (from ultralytics) (10.3.0)\n",
      "Requirement already satisfied: torch>=1.8.0 in c:\\users\\johan\\appdata\\local\\programs\\python\\python39\\lib\\site-packages (from ultralytics) (2.3.0)\n",
      "Requirement already satisfied: requests>=2.23.0 in c:\\users\\johan\\appdata\\local\\programs\\python\\python39\\lib\\site-packages (from ultralytics) (2.31.0)\n",
      "Requirement already satisfied: pyyaml>=5.3.1 in c:\\users\\johan\\appdata\\local\\programs\\python\\python39\\lib\\site-packages (from ultralytics) (6.0.1)\n",
      "Requirement already satisfied: opencv-python>=4.6.0 in c:\\users\\johan\\appdata\\local\\programs\\python\\python39\\lib\\site-packages (from ultralytics) (4.9.0.80)\n",
      "Requirement already satisfied: matplotlib>=3.3.0 in c:\\users\\johan\\appdata\\local\\programs\\python\\python39\\lib\\site-packages (from ultralytics) (3.8.4)\n",
      "Requirement already satisfied: pyparsing>=2.3.1 in c:\\users\\johan\\appdata\\local\\programs\\python\\python39\\lib\\site-packages (from matplotlib>=3.3.0->ultralytics) (3.1.2)\n",
      "Requirement already satisfied: cycler>=0.10 in c:\\users\\johan\\appdata\\local\\programs\\python\\python39\\lib\\site-packages (from matplotlib>=3.3.0->ultralytics) (0.12.1)\n",
      "Requirement already satisfied: fonttools>=4.22.0 in c:\\users\\johan\\appdata\\local\\programs\\python\\python39\\lib\\site-packages (from matplotlib>=3.3.0->ultralytics) (4.51.0)\n",
      "Requirement already satisfied: numpy>=1.21 in c:\\users\\johan\\appdata\\local\\programs\\python\\python39\\lib\\site-packages (from matplotlib>=3.3.0->ultralytics) (1.26.4)\n",
      "Requirement already satisfied: importlib-resources>=3.2.0 in c:\\users\\johan\\appdata\\local\\programs\\python\\python39\\lib\\site-packages (from matplotlib>=3.3.0->ultralytics) (6.4.0)\n",
      "Requirement already satisfied: kiwisolver>=1.3.1 in c:\\users\\johan\\appdata\\local\\programs\\python\\python39\\lib\\site-packages (from matplotlib>=3.3.0->ultralytics) (1.4.5)\n",
      "Requirement already satisfied: packaging>=20.0 in c:\\users\\johan\\appdata\\local\\programs\\python\\python39\\lib\\site-packages (from matplotlib>=3.3.0->ultralytics) (24.0)\n",
      "Requirement already satisfied: contourpy>=1.0.1 in c:\\users\\johan\\appdata\\local\\programs\\python\\python39\\lib\\site-packages (from matplotlib>=3.3.0->ultralytics) (1.2.1)\n",
      "Requirement already satisfied: python-dateutil>=2.7 in c:\\users\\johan\\appdata\\local\\programs\\python\\python39\\lib\\site-packages (from matplotlib>=3.3.0->ultralytics) (2.9.0.post0)\n",
      "Requirement already satisfied: zipp>=3.1.0 in c:\\users\\johan\\appdata\\local\\programs\\python\\python39\\lib\\site-packages (from importlib-resources>=3.2.0->matplotlib>=3.3.0->ultralytics) (3.18.1)\n",
      "Requirement already satisfied: pytz>=2020.1 in c:\\users\\johan\\appdata\\local\\programs\\python\\python39\\lib\\site-packages (from pandas>=1.1.4->ultralytics) (2024.1)\n",
      "Requirement already satisfied: tzdata>=2022.7 in c:\\users\\johan\\appdata\\local\\programs\\python\\python39\\lib\\site-packages (from pandas>=1.1.4->ultralytics) (2024.1)\n",
      "Requirement already satisfied: six>=1.5 in c:\\users\\johan\\appdata\\local\\programs\\python\\python39\\lib\\site-packages (from python-dateutil>=2.7->matplotlib>=3.3.0->ultralytics) (1.16.0)\n",
      "Requirement already satisfied: charset-normalizer<4,>=2 in c:\\users\\johan\\appdata\\local\\programs\\python\\python39\\lib\\site-packages (from requests>=2.23.0->ultralytics) (3.3.2)\n",
      "Requirement already satisfied: idna<4,>=2.5 in c:\\users\\johan\\appdata\\local\\programs\\python\\python39\\lib\\site-packages (from requests>=2.23.0->ultralytics) (3.7)\n",
      "Requirement already satisfied: urllib3<3,>=1.21.1 in c:\\users\\johan\\appdata\\local\\programs\\python\\python39\\lib\\site-packages (from requests>=2.23.0->ultralytics) (2.2.1)\n",
      "Requirement already satisfied: certifi>=2017.4.17 in c:\\users\\johan\\appdata\\local\\programs\\python\\python39\\lib\\site-packages (from requests>=2.23.0->ultralytics) (2024.2.2)\n",
      "Requirement already satisfied: typing-extensions>=4.8.0 in c:\\users\\johan\\appdata\\local\\programs\\python\\python39\\lib\\site-packages (from torch>=1.8.0->ultralytics) (4.11.0)\n",
      "Requirement already satisfied: jinja2 in c:\\users\\johan\\appdata\\local\\programs\\python\\python39\\lib\\site-packages (from torch>=1.8.0->ultralytics) (3.1.3)\n",
      "Requirement already satisfied: mkl<=2021.4.0,>=2021.1.1 in c:\\users\\johan\\appdata\\local\\programs\\python\\python39\\lib\\site-packages (from torch>=1.8.0->ultralytics) (2021.4.0)\n",
      "Requirement already satisfied: fsspec in c:\\users\\johan\\appdata\\local\\programs\\python\\python39\\lib\\site-packages (from torch>=1.8.0->ultralytics) (2024.3.1)\n",
      "Requirement already satisfied: sympy in c:\\users\\johan\\appdata\\local\\programs\\python\\python39\\lib\\site-packages (from torch>=1.8.0->ultralytics) (1.12)\n",
      "Requirement already satisfied: networkx in c:\\users\\johan\\appdata\\local\\programs\\python\\python39\\lib\\site-packages (from torch>=1.8.0->ultralytics) (3.2.1)\n",
      "Requirement already satisfied: filelock in c:\\users\\johan\\appdata\\local\\programs\\python\\python39\\lib\\site-packages (from torch>=1.8.0->ultralytics) (3.14.0)\n",
      "Requirement already satisfied: tbb==2021.* in c:\\users\\johan\\appdata\\local\\programs\\python\\python39\\lib\\site-packages (from mkl<=2021.4.0,>=2021.1.1->torch>=1.8.0->ultralytics) (2021.12.0)\n",
      "Requirement already satisfied: intel-openmp==2021.* in c:\\users\\johan\\appdata\\local\\programs\\python\\python39\\lib\\site-packages (from mkl<=2021.4.0,>=2021.1.1->torch>=1.8.0->ultralytics) (2021.4.0)\n",
      "Requirement already satisfied: colorama in c:\\users\\johan\\appdata\\local\\programs\\python\\python39\\lib\\site-packages (from tqdm>=4.64.0->ultralytics) (0.4.6)\n",
      "Requirement already satisfied: MarkupSafe>=2.0 in c:\\users\\johan\\appdata\\local\\programs\\python\\python39\\lib\\site-packages (from jinja2->torch>=1.8.0->ultralytics) (2.1.5)\n",
      "Requirement already satisfied: mpmath>=0.19 in c:\\users\\johan\\appdata\\local\\programs\\python\\python39\\lib\\site-packages (from sympy->torch>=1.8.0->ultralytics) (1.3.0)\n",
      "Note: you may need to restart the kernel to use updated packages.\n"
     ]
    },
    {
     "name": "stderr",
     "output_type": "stream",
     "text": [
      "WARNING: You are using pip version 21.1.3; however, version 24.0 is available.\n",
      "You should consider upgrading via the 'c:\\Users\\johan\\AppData\\Local\\Programs\\Python\\Python39\\python.exe -m pip install --upgrade pip' command.\n"
     ]
    },
    {
     "name": "stdout",
     "output_type": "stream",
     "text": [
      "Collecting roboflow\n",
      "  Downloading roboflow-1.1.28-py3-none-any.whl (74 kB)\n",
      "Collecting python-magic\n",
      "  Downloading python_magic-0.4.27-py2.py3-none-any.whl (13 kB)\n",
      "Requirement already satisfied: requests in c:\\users\\johan\\appdata\\local\\programs\\python\\python39\\lib\\site-packages (from roboflow) (2.31.0)\n",
      "Requirement already satisfied: PyYAML>=5.3.1 in c:\\users\\johan\\appdata\\local\\programs\\python\\python39\\lib\\site-packages (from roboflow) (6.0.1)\n",
      "Collecting cycler==0.10.0\n",
      "  Downloading cycler-0.10.0-py2.py3-none-any.whl (6.5 kB)\n",
      "Requirement already satisfied: tqdm>=4.41.0 in c:\\users\\johan\\appdata\\local\\programs\\python\\python39\\lib\\site-packages (from roboflow) (4.66.4)\n",
      "Collecting opencv-python-headless==4.8.0.74\n",
      "  Downloading opencv_python_headless-4.8.0.74-cp37-abi3-win_amd64.whl (38.0 MB)\n",
      "Requirement already satisfied: six in c:\\users\\johan\\appdata\\local\\programs\\python\\python39\\lib\\site-packages (from roboflow) (1.16.0)\n",
      "Requirement already satisfied: kiwisolver>=1.3.1 in c:\\users\\johan\\appdata\\local\\programs\\python\\python39\\lib\\site-packages (from roboflow) (1.4.5)\n",
      "Collecting idna==2.10\n",
      "  Downloading idna-2.10-py2.py3-none-any.whl (58 kB)\n",
      "Requirement already satisfied: numpy>=1.18.5 in c:\\users\\johan\\appdata\\local\\programs\\python\\python39\\lib\\site-packages (from roboflow) (1.26.4)\n",
      "Requirement already satisfied: python-dateutil in c:\\users\\johan\\appdata\\local\\programs\\python\\python39\\lib\\site-packages (from roboflow) (2.9.0.post0)\n",
      "Requirement already satisfied: matplotlib in c:\\users\\johan\\appdata\\local\\programs\\python\\python39\\lib\\site-packages (from roboflow) (3.8.4)\n",
      "Collecting chardet==4.0.0\n",
      "  Downloading chardet-4.0.0-py2.py3-none-any.whl (178 kB)\n",
      "Collecting requests-toolbelt\n",
      "  Downloading requests_toolbelt-1.0.0-py2.py3-none-any.whl (54 kB)\n",
      "Requirement already satisfied: urllib3>=1.26.6 in c:\\users\\johan\\appdata\\local\\programs\\python\\python39\\lib\\site-packages (from roboflow) (2.2.1)\n",
      "Requirement already satisfied: Pillow>=7.1.2 in c:\\users\\johan\\appdata\\local\\programs\\python\\python39\\lib\\site-packages (from roboflow) (10.3.0)\n",
      "Collecting python-dotenv\n",
      "  Downloading python_dotenv-1.0.1-py3-none-any.whl (19 kB)\n",
      "Collecting certifi==2023.7.22\n",
      "  Downloading certifi-2023.7.22-py3-none-any.whl (158 kB)\n",
      "Requirement already satisfied: colorama in c:\\users\\johan\\appdata\\local\\programs\\python\\python39\\lib\\site-packages (from tqdm>=4.41.0->roboflow) (0.4.6)\n",
      "Requirement already satisfied: importlib-resources>=3.2.0 in c:\\users\\johan\\appdata\\local\\programs\\python\\python39\\lib\\site-packages (from matplotlib->roboflow) (6.4.0)\n",
      "Requirement already satisfied: contourpy>=1.0.1 in c:\\users\\johan\\appdata\\local\\programs\\python\\python39\\lib\\site-packages (from matplotlib->roboflow) (1.2.1)\n",
      "Requirement already satisfied: packaging>=20.0 in c:\\users\\johan\\appdata\\local\\programs\\python\\python39\\lib\\site-packages (from matplotlib->roboflow) (24.0)\n",
      "Requirement already satisfied: pyparsing>=2.3.1 in c:\\users\\johan\\appdata\\local\\programs\\python\\python39\\lib\\site-packages (from matplotlib->roboflow) (3.1.2)\n",
      "Requirement already satisfied: fonttools>=4.22.0 in c:\\users\\johan\\appdata\\local\\programs\\python\\python39\\lib\\site-packages (from matplotlib->roboflow) (4.51.0)\n",
      "Requirement already satisfied: zipp>=3.1.0 in c:\\users\\johan\\appdata\\local\\programs\\python\\python39\\lib\\site-packages (from importlib-resources>=3.2.0->matplotlib->roboflow) (3.18.1)\n",
      "Requirement already satisfied: charset-normalizer<4,>=2 in c:\\users\\johan\\appdata\\local\\programs\\python\\python39\\lib\\site-packages (from requests->roboflow) (3.3.2)\n",
      "Installing collected packages: idna, certifi, cycler, requests-toolbelt, python-magic, python-dotenv, opencv-python-headless, chardet, roboflow\n",
      "  Attempting uninstall: idna\n",
      "    Found existing installation: idna 3.7\n",
      "    Uninstalling idna-3.7:\n",
      "      Successfully uninstalled idna-3.7\n",
      "  Attempting uninstall: certifi\n",
      "    Found existing installation: certifi 2024.2.2\n",
      "    Uninstalling certifi-2024.2.2:\n",
      "      Successfully uninstalled certifi-2024.2.2\n",
      "  Attempting uninstall: cycler\n",
      "    Found existing installation: cycler 0.12.1\n",
      "    Uninstalling cycler-0.12.1:\n",
      "      Successfully uninstalled cycler-0.12.1\n",
      "Successfully installed certifi-2023.7.22 chardet-4.0.0 cycler-0.10.0 idna-2.10 opencv-python-headless-4.8.0.74 python-dotenv-1.0.1 python-magic-0.4.27 requests-toolbelt-1.0.0 roboflow-1.1.28\n",
      "Note: you may need to restart the kernel to use updated packages.\n"
     ]
    },
    {
     "name": "stderr",
     "output_type": "stream",
     "text": [
      "  WARNING: The script dotenv.exe is installed in 'c:\\Users\\johan\\AppData\\Local\\Programs\\Python\\Python39\\Scripts' which is not on PATH.\n",
      "  Consider adding this directory to PATH or, if you prefer to suppress this warning, use --no-warn-script-location.\n",
      "  WARNING: The script chardetect.exe is installed in 'c:\\Users\\johan\\AppData\\Local\\Programs\\Python\\Python39\\Scripts' which is not on PATH.\n",
      "  Consider adding this directory to PATH or, if you prefer to suppress this warning, use --no-warn-script-location.\n",
      "  WARNING: The script roboflow.exe is installed in 'c:\\Users\\johan\\AppData\\Local\\Programs\\Python\\Python39\\Scripts' which is not on PATH.\n",
      "  Consider adding this directory to PATH or, if you prefer to suppress this warning, use --no-warn-script-location.\n",
      "WARNING: You are using pip version 21.1.3; however, version 24.0 is available.\n",
      "You should consider upgrading via the 'c:\\Users\\johan\\AppData\\Local\\Programs\\Python\\Python39\\python.exe -m pip install --upgrade pip' command.\n"
     ]
    }
   ],
   "source": [
    "%pip install ultralytics\n",
    "%pip install roboflow"
   ]
  },
  {
   "cell_type": "markdown",
   "metadata": {},
   "source": [
    "# Get Dataset"
   ]
  },
  {
   "cell_type": "code",
   "execution_count": 6,
   "metadata": {},
   "outputs": [
    {
     "name": "stdout",
     "output_type": "stream",
     "text": [
      "loading Roboflow workspace...\n",
      "loading Roboflow project...\n"
     ]
    },
    {
     "name": "stderr",
     "output_type": "stream",
     "text": [
      "Downloading Dataset Version Zip in football-players-detection-1 to yolov5pytorch:: 100%|██████████| 148663/148663 [00:05<00:00, 29595.49it/s]"
     ]
    },
    {
     "name": "stdout",
     "output_type": "stream",
     "text": [
      "\n"
     ]
    },
    {
     "name": "stderr",
     "output_type": "stream",
     "text": [
      "\n",
      "Extracting Dataset Version Zip to football-players-detection-1 in yolov5pytorch:: 100%|██████████| 1338/1338 [00:00<00:00, 1511.84it/s]\n"
     ]
    }
   ],
   "source": [
    "\n",
    "from roboflow import Roboflow\n",
    "rf = Roboflow(api_key=\"nadZnOPjejKmYDtxXIEa\")\n",
    "project = rf.workspace(\"roboflow-jvuqo\").project(\"football-players-detection-3zvbc\")\n",
    "version = project.version(1)\n",
    "dataset = version.download(\"yolov5\")\n"
   ]
  },
  {
   "cell_type": "code",
   "execution_count": 7,
   "metadata": {},
   "outputs": [
    {
     "data": {
      "text/plain": [
       "'football-players-detection-1/football-players-detection-1/valid'"
      ]
     },
     "execution_count": 7,
     "metadata": {},
     "output_type": "execute_result"
    }
   ],
   "source": [
    "import shutil\n",
    "\n",
    "shutil.move('football-players-detection-1/train', 'football-players-detection-1/football-players-detection-1/train' )\n",
    "\n",
    "shutil.move('football-players-detection-1/test', 'football-players-detection-1/football-players-detection-1/test' )\n",
    "\n",
    "shutil.move('football-players-detection-1/valid', 'football-players-detection-1/football-players-detection-1/valid' )"
   ]
  },
  {
   "cell_type": "markdown",
   "metadata": {},
   "source": [
    "# Training"
   ]
  },
  {
   "cell_type": "code",
   "execution_count": null,
   "metadata": {},
   "outputs": [],
   "source": [
    "!yolo task=detect mode=train model=yolov5x.pt data={dataset.location}/data.yaml epochs=100 imgsz=640"
   ]
  }
 ],
 "metadata": {
  "kernelspec": {
   "display_name": "Python 3",
   "language": "python",
   "name": "python3"
  },
  "language_info": {
   "codemirror_mode": {
    "name": "ipython",
    "version": 3
   },
   "file_extension": ".py",
   "mimetype": "text/x-python",
   "name": "python",
   "nbconvert_exporter": "python",
   "pygments_lexer": "ipython3",
   "version": "3.9.6"
  }
 },
 "nbformat": 4,
 "nbformat_minor": 2
}
